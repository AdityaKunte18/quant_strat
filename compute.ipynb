{
 "cells": [
  {
   "cell_type": "code",
   "execution_count": 3,
   "metadata": {},
   "outputs": [],
   "source": [
    "import numpy as np\n",
    "import pandas as pd\n",
    "import yfinance\n",
    "from collections import defaultdict"
   ]
  },
  {
   "cell_type": "code",
   "execution_count": 13,
   "metadata": {},
   "outputs": [],
   "source": [
    "df = pd.read_csv('2023_period1.csv')\n",
    "tickers  = df['Symbol']\n",
    "current_prices = {ticker: 0 for ticker in tickers}"
   ]
  },
  {
   "cell_type": "code",
   "execution_count": 14,
   "metadata": {},
   "outputs": [],
   "source": [
    "stock_priceshistory = pd.read_csv('daily_stock_prices.csv')"
   ]
  },
  {
   "cell_type": "code",
   "execution_count": 17,
   "metadata": {},
   "outputs": [],
   "source": [
    "import yfinance as yf\n",
    "from datetime import datetime\n",
    "import pandas as pd\n",
    "\n",
    "def initialize_structure(structure):\n",
    "\n",
    "    for stock in structure:\n",
    "        try:\n",
    "            # # Download the stock price data for the given starting_date\n",
    "            st = yf.Ticker(stock)\n",
    "            \n",
    "            c_price = st.info['currentPrice']\n",
    "\n",
    "            # Update the structure with the starting price and current price\n",
    "            # structure[stock][0] = starting_price\n",
    "            structure[stock] = c_price\n",
    "        \n",
    "        # except yf.YFPricesMissingError:\n",
    "        #     print(f\"Error: {stock} possibly delisted; no price data found for the given date.\")\n",
    "        #     structure[stock] = [None, None]  # Handle missing data by setting prices to None\n",
    "        \n",
    "        except Exception as e:\n",
    "            print(f\"Error fetching data for {stock}: {e}\")\n",
    "            structure[stock] = [None, None]  # Handle generic exceptions\n",
    "\n",
    "    return structure\n"
   ]
  },
  {
   "cell_type": "code",
   "execution_count": null,
   "metadata": {},
   "outputs": [],
   "source": [
    "initialize_structure(current_prices)"
   ]
  },
  {
   "cell_type": "code",
   "execution_count": 22,
   "metadata": {},
   "outputs": [],
   "source": [
    "principal = 10000\n",
    "num_stocks = len(current_prices)\n",
    "amount_per =  10000/num_stocks\n"
   ]
  },
  {
   "cell_type": "code",
   "execution_count": null,
   "metadata": {},
   "outputs": [],
   "source": [
    "num_stocks = {ticker: 0 for ticker in tickers}\n",
    "for key in num_stocks:\n",
    "    num_stocks[key] = current_prices[key] / amount_per\n",
    "\n",
    "\n"
   ]
  }
 ],
 "metadata": {
  "kernelspec": {
   "display_name": "venv",
   "language": "python",
   "name": "python3"
  },
  "language_info": {
   "codemirror_mode": {
    "name": "ipython",
    "version": 3
   },
   "file_extension": ".py",
   "mimetype": "text/x-python",
   "name": "python",
   "nbconvert_exporter": "python",
   "pygments_lexer": "ipython3",
   "version": "3.10.14"
  }
 },
 "nbformat": 4,
 "nbformat_minor": 2
}
